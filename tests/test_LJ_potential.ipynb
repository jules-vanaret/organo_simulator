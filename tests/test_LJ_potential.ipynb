{
 "cells": [
  {
   "cell_type": "code",
   "execution_count": 9,
   "metadata": {},
   "outputs": [],
   "source": [
    "import numpy as np\n",
    "from tqdm import tqdm\n",
    "from organo_simulator.simulator_LJ_force import FastOverdampedSimulator\n",
    "import napari"
   ]
  },
  {
   "cell_type": "code",
   "execution_count": 10,
   "metadata": {},
   "outputs": [],
   "source": [
    "np.random.seed(1)\n",
    "\n",
    "dt = 0.1\n",
    "d=2 # dimension of simulation\n",
    "N_part = 500 # number of particles\n",
    "nuclei_sizes = 1\n",
    "\n",
    "# persistence times (in physical units) for the OU process\n",
    "persistence_times = np.array([10]*(N_part))\n",
    "viscosities = np.array([1]*(N_part))\n",
    "Ds = np.array([0]*(N_part)) # diffusion coefficients\n",
    "\n",
    "Nx = 1000 # length of the box in pixels for the rendering "
   ]
  },
  {
   "cell_type": "code",
   "execution_count": 11,
   "metadata": {},
   "outputs": [
    {
     "name": "stdout",
     "output_type": "stream",
     "text": [
      "Max overall distance: 3.03\n"
     ]
    }
   ],
   "source": [
    "simulator = FastOverdampedSimulator(\n",
    "    L=None, # will be initialized automatically\n",
    "    Nx=Nx, # length of the box in pixels for the rendering \n",
    "    d=d, # dimensions (2 or 3)\n",
    "    N_part=N_part, # number of particles\n",
    "    nuclei_sizes=nuclei_sizes, # radius of particles\n",
    "    viscosity=viscosities, # viscosities of particles\n",
    "    D=Ds, # diffusion coefficients\n",
    "    persistence_time=persistence_times, # how long the temporal autocorrelation of random movement goes\n",
    "    energy_potential=1,\n",
    "    parallel=True\n",
    ")"
   ]
  },
  {
   "cell_type": "code",
   "execution_count": 4,
   "metadata": {},
   "outputs": [],
   "source": [
    "skip = 1 # return coordinates every s\n",
    "total_steps = 1000 # total number of simulation steps\n",
    "Nt = int(total_steps/skip)"
   ]
  },
  {
   "cell_type": "code",
   "execution_count": 5,
   "metadata": {},
   "outputs": [
    {
     "name": "stderr",
     "output_type": "stream",
     "text": [
      "100%|██████████| 1000/1000 [00:08<00:00, 111.17it/s]\n"
     ]
    }
   ],
   "source": [
    "# Initializing arrays to collect data\n",
    "data = np.empty((N_part*Nt,d+1))\n",
    "data_points=[]\n",
    "\n",
    "\n",
    "for i in tqdm(range(total_steps)):\n",
    "    simulator.update_dynamics(dt=dt)\n",
    "\n",
    "    if i%skip==0:\n",
    "        positions = simulator.dump_coordinates()\n",
    "        time_pos = np.hstack((i/skip * np.ones((N_part,1)), positions))\n",
    "\n",
    "        #data = np.vstack((data, time_pos))\n",
    "        data[int(i/skip)*len(time_pos):(int(i/skip)+1)*len(time_pos),:] = time_pos\n",
    "        data_points.append(positions)"
   ]
  },
  {
   "cell_type": "code",
   "execution_count": 6,
   "metadata": {},
   "outputs": [
    {
     "data": {
      "text/plain": [
       "236.40175363396713"
      ]
     },
     "execution_count": 6,
     "metadata": {},
     "output_type": "execute_result"
    }
   ],
   "source": [
    "np.max(data[:,1:])"
   ]
  },
  {
   "cell_type": "code",
   "execution_count": 7,
   "metadata": {},
   "outputs": [],
   "source": [
    "import numpy as np\n",
    "tids = np.tile(np.arange(N_part), Nt)\n",
    "tracks = np.empty((N_part*Nt, 4))\n",
    "tracks[:,0] = tids\n",
    "tracks[:,1:] = data"
   ]
  },
  {
   "cell_type": "code",
   "execution_count": 8,
   "metadata": {},
   "outputs": [
    {
     "name": "stderr",
     "output_type": "stream",
     "text": [
      "/home/jvanaret/anaconda3/envs/napari-env/lib/python3.9/site-packages/napari/_qt/qt_viewer.py:395: UserWarning: Attempting to unbind an action which does not exists (napari:select_all), this may have no effects. This can happen if your settings are out of date, if you upgraded napari, upgraded or deactivated a plugin, or made a typo in in your custom keybinding.\n",
      "  action_manager.unbind_shortcut(action)\n"
     ]
    },
    {
     "data": {
      "text/plain": [
       "<Tracks layer 'tracks' at 0x7f988080ec40>"
      ]
     },
     "execution_count": 8,
     "metadata": {},
     "output_type": "execute_result"
    }
   ],
   "source": [
    "viewer = napari.Viewer()\n",
    "viewer.add_tracks(tracks)"
   ]
  },
  {
   "cell_type": "code",
   "execution_count": null,
   "metadata": {},
   "outputs": [],
   "source": []
  }
 ],
 "metadata": {
  "kernelspec": {
   "display_name": "env-autoflexure",
   "language": "python",
   "name": "python3"
  },
  "language_info": {
   "codemirror_mode": {
    "name": "ipython",
    "version": 3
   },
   "file_extension": ".py",
   "mimetype": "text/x-python",
   "name": "python",
   "nbconvert_exporter": "python",
   "pygments_lexer": "ipython3",
   "version": "3.9.7"
  },
  "orig_nbformat": 4
 },
 "nbformat": 4,
 "nbformat_minor": 2
}
